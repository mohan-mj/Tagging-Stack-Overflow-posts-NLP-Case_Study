{
  "nbformat": 4,
  "nbformat_minor": 0,
  "metadata": {
    "colab": {
      "name": "Tagging-Stack-Overflow-posts.ipynb",
      "version": "0.3.2",
      "provenance": [],
      "collapsed_sections": [],
      "include_colab_link": true
    },
    "kernelspec": {
      "name": "python3",
      "display_name": "Python 3"
    }
  },
  "cells": [
    {
      "cell_type": "markdown",
      "metadata": {
        "id": "view-in-github",
        "colab_type": "text"
      },
      "source": [
        "<a href=\"https://colab.research.google.com/github/mohan-mj/Tagging-Stack-Overflow-posts-NLP-Case_Study/blob/master/Tagging_Stack_Overflow_posts.ipynb\" target=\"_parent\"><img src=\"https://colab.research.google.com/assets/colab-badge.svg\" alt=\"Open In Colab\"/></a>"
      ]
    },
    {
      "cell_type": "code",
      "metadata": {
        "id": "cSN3BIvNnKh6",
        "colab_type": "code",
        "colab": {}
      },
      "source": [
        "import matplotlib.pyplot as plt\n",
        "import numpy as np\n",
        "import pandas as pd\n",
        "import tensorflow as tf"
      ],
      "execution_count": 0,
      "outputs": []
    },
    {
      "cell_type": "code",
      "metadata": {
        "id": "0txRbMLCnbvb",
        "colab_type": "code",
        "colab": {
          "base_uri": "https://localhost:8080/",
          "height": 35
        },
        "outputId": "be006b3e-ba90-4e36-86e7-e6c1792af3c8"
      },
      "source": [
        "from sklearn.preprocessing import LabelBinarizer, LabelEncoder\n",
        "from sklearn.metrics import confusion_matrix\n",
        "\n",
        "from tensorflow import keras\n",
        "from keras.models import Sequential\n",
        "from keras.layers import Dense, Activation, Dropout\n",
        "from keras.preprocessing import text, sequence\n",
        "from keras import utils  "
      ],
      "execution_count": 2,
      "outputs": [
        {
          "output_type": "stream",
          "text": [
            "Using TensorFlow backend.\n"
          ],
          "name": "stderr"
        }
      ]
    },
    {
      "cell_type": "markdown",
      "metadata": {
        "id": "_ub1yZX0uWqA",
        "colab_type": "text"
      },
      "source": [
        "## Getting the comment data\n",
        "\n",
        "Data is at the core of any machine learning problem. To build our text classification model, we’ll need to train it on a large dataset of Stack Overflow questions. After training our model, we’ll also need a test dataset to check its accuracy with data it has never seen before. Our first step is getting the Stack Overflow questions and tags. This data is available as a public dataset."
      ]
    },
    {
      "cell_type": "code",
      "metadata": {
        "id": "RrZE75hAngyy",
        "colab_type": "code",
        "colab": {}
      },
      "source": [
        "!wget -q https://storage.googleapis.com/tensorflow-workshop-examples/stack-overflow-data.csv"
      ],
      "execution_count": 0,
      "outputs": []
    },
    {
      "cell_type": "code",
      "metadata": {
        "id": "PsLn6gITnkbn",
        "colab_type": "code",
        "colab": {
          "base_uri": "https://localhost:8080/",
          "height": 323
        },
        "outputId": "8e587299-2ab7-442d-eb9f-b3e1491a98a8"
      },
      "source": [
        "data = pd.read_csv(\"stack-overflow-data.csv\")\n",
        "data.info()\n",
        "data.head()"
      ],
      "execution_count": 5,
      "outputs": [
        {
          "output_type": "stream",
          "text": [
            "<class 'pandas.core.frame.DataFrame'>\n",
            "RangeIndex: 40000 entries, 0 to 39999\n",
            "Data columns (total 2 columns):\n",
            "post    40000 non-null object\n",
            "tags    40000 non-null object\n",
            "dtypes: object(2)\n",
            "memory usage: 625.1+ KB\n"
          ],
          "name": "stdout"
        },
        {
          "output_type": "execute_result",
          "data": {
            "text/html": [
              "<div>\n",
              "<style scoped>\n",
              "    .dataframe tbody tr th:only-of-type {\n",
              "        vertical-align: middle;\n",
              "    }\n",
              "\n",
              "    .dataframe tbody tr th {\n",
              "        vertical-align: top;\n",
              "    }\n",
              "\n",
              "    .dataframe thead th {\n",
              "        text-align: right;\n",
              "    }\n",
              "</style>\n",
              "<table border=\"1\" class=\"dataframe\">\n",
              "  <thead>\n",
              "    <tr style=\"text-align: right;\">\n",
              "      <th></th>\n",
              "      <th>post</th>\n",
              "      <th>tags</th>\n",
              "    </tr>\n",
              "  </thead>\n",
              "  <tbody>\n",
              "    <tr>\n",
              "      <th>0</th>\n",
              "      <td>what is causing this behavior  in our c# datet...</td>\n",
              "      <td>c#</td>\n",
              "    </tr>\n",
              "    <tr>\n",
              "      <th>1</th>\n",
              "      <td>have dynamic html load as if it was in an ifra...</td>\n",
              "      <td>asp.net</td>\n",
              "    </tr>\n",
              "    <tr>\n",
              "      <th>2</th>\n",
              "      <td>how to convert a float value in to min:sec  i ...</td>\n",
              "      <td>objective-c</td>\n",
              "    </tr>\n",
              "    <tr>\n",
              "      <th>3</th>\n",
              "      <td>.net framework 4 redistributable  just wonderi...</td>\n",
              "      <td>.net</td>\n",
              "    </tr>\n",
              "    <tr>\n",
              "      <th>4</th>\n",
              "      <td>trying to calculate and print the mean and its...</td>\n",
              "      <td>python</td>\n",
              "    </tr>\n",
              "  </tbody>\n",
              "</table>\n",
              "</div>"
            ],
            "text/plain": [
              "                                                post         tags\n",
              "0  what is causing this behavior  in our c# datet...           c#\n",
              "1  have dynamic html load as if it was in an ifra...      asp.net\n",
              "2  how to convert a float value in to min:sec  i ...  objective-c\n",
              "3  .net framework 4 redistributable  just wonderi...         .net\n",
              "4  trying to calculate and print the mean and its...       python"
            ]
          },
          "metadata": {
            "tags": []
          },
          "execution_count": 5
        }
      ]
    },
    {
      "cell_type": "code",
      "metadata": {
        "id": "0Uo5b1JhnqVl",
        "colab_type": "code",
        "colab": {
          "base_uri": "https://localhost:8080/",
          "height": 381
        },
        "outputId": "38b3aa02-f0ac-4ed2-b213-a4453ab80452"
      },
      "source": [
        "# Confirm that we have a balanced dataset\n",
        "\n",
        "data['tags'].value_counts()"
      ],
      "execution_count": 6,
      "outputs": [
        {
          "output_type": "execute_result",
          "data": {
            "text/plain": [
              "ruby-on-rails    2000\n",
              "python           2000\n",
              "asp.net          2000\n",
              "c#               2000\n",
              "css              2000\n",
              "iphone           2000\n",
              "android          2000\n",
              "sql              2000\n",
              "php              2000\n",
              "ios              2000\n",
              "c++              2000\n",
              ".net             2000\n",
              "javascript       2000\n",
              "angularjs        2000\n",
              "html             2000\n",
              "objective-c      2000\n",
              "java             2000\n",
              "c                2000\n",
              "mysql            2000\n",
              "jquery           2000\n",
              "Name: tags, dtype: int64"
            ]
          },
          "metadata": {
            "tags": []
          },
          "execution_count": 6
        }
      ]
    },
    {
      "cell_type": "code",
      "metadata": {
        "id": "mEJrebubn7F8",
        "colab_type": "code",
        "colab": {
          "base_uri": "https://localhost:8080/",
          "height": 52
        },
        "outputId": "562eb163-4291-4f17-f466-715e00738fbc"
      },
      "source": [
        "# Split data into train and test\n",
        "train_size = int(len(data) * .8)\n",
        "print (\"Train size: %d\" % train_size)\n",
        "print (\"Test size: %d\" % (len(data) - train_size))"
      ],
      "execution_count": 7,
      "outputs": [
        {
          "output_type": "stream",
          "text": [
            "Train size: 32000\n",
            "Test size: 8000\n"
          ],
          "name": "stdout"
        }
      ]
    },
    {
      "cell_type": "code",
      "metadata": {
        "id": "LukcEZkBoBXw",
        "colab_type": "code",
        "colab": {}
      },
      "source": [
        "train_posts = data['post'][:train_size]\n",
        "train_tags = data['tags'][:train_size]\n",
        "\n",
        "test_posts = data['post'][train_size:]\n",
        "test_tags = data['tags'][train_size:]"
      ],
      "execution_count": 0,
      "outputs": []
    },
    {
      "cell_type": "markdown",
      "metadata": {
        "id": "U6t4HKVVu-OW",
        "colab_type": "text"
      },
      "source": [
        "# Bag of words model\n",
        "\n",
        "## Preprocessing data\n",
        "\n",
        "We’ll use a simple Bag of Words model to classify questions. This type of model takes the collection of words in each post as input. It will be able to determine whether each word appears in a post, but it won’t understand grammar or sequence  (think of the inputs as a bag of Scrabble tiles, where each tile represents a word). For example, our model will be able to understand that the words “screen” and “listview” are frequently tagged as Android, but it won’t know anything about the order in which they frequently appear.\n",
        "\n",
        " ## Processing input features\n",
        "\n",
        "Our input data is the post title and body, but we can’t feed text directly into our model. Instead, we need to put it into numeric representation, which is a format the model can understand. To do this, we’ll create an array of the top words in our vocabulary. A comment will be represented by a dense vector of our vocabulary size, with a 0 or 1 indicating the absence or presence of a given word from the vocabulary in a comment."
      ]
    },
    {
      "cell_type": "code",
      "metadata": {
        "id": "gjf0JlRgoDLc",
        "colab_type": "code",
        "colab": {}
      },
      "source": [
        "max_words = 1000\n",
        "tokenize = text.Tokenizer(num_words=max_words, char_level=False)"
      ],
      "execution_count": 0,
      "outputs": []
    },
    {
      "cell_type": "code",
      "metadata": {
        "id": "9qa1EEKQoQd0",
        "colab_type": "code",
        "colab": {}
      },
      "source": [
        "tokenize.fit_on_texts(train_posts) # only fit on train\n",
        "x_train = tokenize.texts_to_matrix(train_posts)\n",
        "x_test = tokenize.texts_to_matrix(test_posts)"
      ],
      "execution_count": 0,
      "outputs": []
    },
    {
      "cell_type": "code",
      "metadata": {
        "id": "CciOe_j2oS9p",
        "colab_type": "code",
        "colab": {}
      },
      "source": [
        "# Use sklearn utility to convert label strings to numbered index\n",
        "encoder = LabelEncoder()\n",
        "encoder.fit(train_tags)\n",
        "y_train = encoder.transform(train_tags)\n",
        "y_test = encoder.transform(test_tags)"
      ],
      "execution_count": 0,
      "outputs": []
    },
    {
      "cell_type": "markdown",
      "metadata": {
        "id": "RGMYteJ8vWAn",
        "colab_type": "text"
      },
      "source": [
        "## Processing output labels\n",
        "The tag for each question is a string (i.e. “javascript” or “php”). First, we’ll need to encode each tag as an integer. But instead of using a single int as the label for each input, we’ll turn it into a one-hot vector."
      ]
    },
    {
      "cell_type": "code",
      "metadata": {
        "id": "gxMhnwLEoYrP",
        "colab_type": "code",
        "colab": {}
      },
      "source": [
        "# Converts the labels to a one-hot representation\n",
        "num_classes = np.max(y_train) + 1\n",
        "y_train = utils.to_categorical(y_train, num_classes)\n",
        "y_test = utils.to_categorical(y_test, num_classes)"
      ],
      "execution_count": 0,
      "outputs": []
    },
    {
      "cell_type": "code",
      "metadata": {
        "id": "NN4sGJTVobro",
        "colab_type": "code",
        "colab": {
          "base_uri": "https://localhost:8080/",
          "height": 87
        },
        "outputId": "db5c1a41-f642-4517-a74f-2777d2604eaa"
      },
      "source": [
        "\n",
        "# Inspect the dimenstions of our training and test data (this is helpful to debug)\n",
        "print('x_train shape:', x_train.shape)\n",
        "print('x_test shape:', x_test.shape)\n",
        "print('y_train shape:', y_train.shape)\n",
        "print('y_test shape:', y_test.shape)"
      ],
      "execution_count": 13,
      "outputs": [
        {
          "output_type": "stream",
          "text": [
            "x_train shape: (32000, 1000)\n",
            "x_test shape: (8000, 1000)\n",
            "y_train shape: (32000, 20)\n",
            "y_test shape: (8000, 20)\n"
          ],
          "name": "stdout"
        }
      ]
    },
    {
      "cell_type": "code",
      "metadata": {
        "id": "jtLXLLpcodNv",
        "colab_type": "code",
        "colab": {}
      },
      "source": [
        "# This model trains very quickly and 2 epochs are already more than enough\n",
        "# Training for more epochs will likely lead to overfitting on this dataset\n",
        "# You can try tweaking these hyperparamaters when using this model with your own data\n",
        "batch_size = 32\n",
        "epochs = 2"
      ],
      "execution_count": 0,
      "outputs": []
    },
    {
      "cell_type": "markdown",
      "metadata": {
        "id": "YEL4gzoWvl-7",
        "colab_type": "text"
      },
      "source": [
        "## Building the model\n",
        "To define the layers of our model we’ll use the Keras Sequential model API. This lets us easily define the shape of our input data and the type of layers that make up our model."
      ]
    },
    {
      "cell_type": "code",
      "metadata": {
        "id": "0R_tEotyohlP",
        "colab_type": "code",
        "colab": {
          "base_uri": "https://localhost:8080/",
          "height": 312
        },
        "outputId": "68b151f8-8552-4b7b-9b65-c0462e44d1d8"
      },
      "source": [
        "# Build the model\n",
        "model = Sequential()\n",
        "model.add(Dense(512, input_shape=(max_words,)))\n",
        "model.add(Activation('relu'))\n",
        "model.add(Dropout(0.5))\n",
        "model.add(Dense(num_classes))\n",
        "model.add(Activation('softmax'))\n",
        "\n",
        "model.compile(loss='categorical_crossentropy',\n",
        "              optimizer='adam',\n",
        "              metrics=['accuracy'])\n",
        "\n",
        "model.summary()"
      ],
      "execution_count": 16,
      "outputs": [
        {
          "output_type": "stream",
          "text": [
            "_________________________________________________________________\n",
            "Layer (type)                 Output Shape              Param #   \n",
            "=================================================================\n",
            "dense_3 (Dense)              (None, 512)               512512    \n",
            "_________________________________________________________________\n",
            "activation_3 (Activation)    (None, 512)               0         \n",
            "_________________________________________________________________\n",
            "dropout_2 (Dropout)          (None, 512)               0         \n",
            "_________________________________________________________________\n",
            "dense_4 (Dense)              (None, 20)                10260     \n",
            "_________________________________________________________________\n",
            "activation_4 (Activation)    (None, 20)                0         \n",
            "=================================================================\n",
            "Total params: 522,772\n",
            "Trainable params: 522,772\n",
            "Non-trainable params: 0\n",
            "_________________________________________________________________\n"
          ],
          "name": "stdout"
        }
      ]
    },
    {
      "cell_type": "markdown",
      "metadata": {
        "id": "l1z1OYB7v1ZD",
        "colab_type": "text"
      },
      "source": [
        "## Training and evaluating the model\n",
        "To prepare our model for training, we need to call the compile method with the loss function we want to use, the type of optimizer, and the metrics our model should evaluate during training and testing. We’ll use the cross entropy loss function, since each of our comments can only belong to one post. The optimizer is the function our model uses to minimize loss. In this example we’ll use the Adam optimizer. There are many optimizers available, all of which are different implementations of gradient descent "
      ]
    },
    {
      "cell_type": "code",
      "metadata": {
        "id": "y9T8W2NhomHh",
        "colab_type": "code",
        "colab": {
          "base_uri": "https://localhost:8080/",
          "height": 176
        },
        "outputId": "1ce359f3-b4b6-4740-e7ad-680645c889b0"
      },
      "source": [
        "# model.fit trains the model\n",
        "# The validation_split param tells Keras what % of our training data should be used in the validation set\n",
        "# You can see the validation loss decreasing slowly when you run this\n",
        "# Because val_loss is no longer decreasing we stop training to prevent overfitting\n",
        "history = model.fit(x_train, y_train,\n",
        "                    batch_size=batch_size,\n",
        "                    epochs=epochs,\n",
        "                    verbose=1,\n",
        "                    validation_split=0.1)"
      ],
      "execution_count": 17,
      "outputs": [
        {
          "output_type": "stream",
          "text": [
            "W0818 16:50:30.811574 140493568624512 deprecation.py:323] From /usr/local/lib/python3.6/dist-packages/tensorflow/python/ops/math_grad.py:1250: add_dispatch_support.<locals>.wrapper (from tensorflow.python.ops.array_ops) is deprecated and will be removed in a future version.\n",
            "Instructions for updating:\n",
            "Use tf.where in 2.0, which has the same broadcast rule as np.where\n"
          ],
          "name": "stderr"
        },
        {
          "output_type": "stream",
          "text": [
            "Train on 28800 samples, validate on 3200 samples\n",
            "Epoch 1/2\n",
            "28800/28800 [==============================] - 12s 432us/step - loss: 0.9758 - acc: 0.7161 - val_loss: 0.6035 - val_acc: 0.8125\n",
            "Epoch 2/2\n",
            "28800/28800 [==============================] - 12s 409us/step - loss: 0.5507 - acc: 0.8234 - val_loss: 0.5937 - val_acc: 0.8081\n"
          ],
          "name": "stdout"
        }
      ]
    },
    {
      "cell_type": "code",
      "metadata": {
        "id": "a8upkbDboyn7",
        "colab_type": "code",
        "colab": {
          "base_uri": "https://localhost:8080/",
          "height": 69
        },
        "outputId": "8ab9572b-9e6d-487e-f9e4-50ebc635f251"
      },
      "source": [
        "# Evaluate the accuracy of our trained model\n",
        "score = model.evaluate(x_test, y_test,\n",
        "                       batch_size=batch_size, verbose=1)\n",
        "print('Test score:', score[0])\n",
        "print('Test accuracy:', score[1])"
      ],
      "execution_count": 18,
      "outputs": [
        {
          "output_type": "stream",
          "text": [
            "8000/8000 [==============================] - 1s 71us/step\n",
            "Test score: 0.6023550906777382\n",
            "Test accuracy: 0.80725\n"
          ],
          "name": "stdout"
        }
      ]
    },
    {
      "cell_type": "markdown",
      "metadata": {
        "id": "bInv19viwHLq",
        "colab_type": "text"
      },
      "source": [
        "## Generating predictions"
      ]
    },
    {
      "cell_type": "code",
      "metadata": {
        "id": "6F4z2q7po4xF",
        "colab_type": "code",
        "colab": {
          "base_uri": "https://localhost:8080/",
          "height": 711
        },
        "outputId": "1a561262-50f3-4129-bbb7-039d020d3f1d"
      },
      "source": [
        "# Here's how to generate a prediction on individual examples\n",
        "text_labels = encoder.classes_ \n",
        "\n",
        "for i in range(10):\n",
        "    prediction = model.predict(np.array([x_test[i]]))\n",
        "    predicted_label = text_labels[np.argmax(prediction)]\n",
        "    print(test_posts.iloc[i][:50], \"...\")\n",
        "    print('Actual label:' + test_tags.iloc[i])\n",
        "    print(\"Predicted label: \" + predicted_label + \"\\n\")"
      ],
      "execution_count": 19,
      "outputs": [
        {
          "output_type": "stream",
          "text": [
            "jquery( tr_selector ) is removing the style values ...\n",
            "Actual label:jquery\n",
            "Predicted label: jquery\n",
            "\n",
            "web reference in wcf  in wcf if we use webreferenc ...\n",
            "Actual label:.net\n",
            "Predicted label: .net\n",
            "\n",
            "fragment transaction custom animation - android  i ...\n",
            "Actual label:android\n",
            "Predicted label: android\n",
            "\n",
            "why can i not use the namespace directive in c++ s ...\n",
            "Actual label:c++\n",
            "Predicted label: c++\n",
            "\n",
            "generating password reset link in c# .net  i must  ...\n",
            "Actual label:.net\n",
            "Predicted label: c#\n",
            "\n",
            "php 5.3 $this versus php 5.4  i am calling a membe ...\n",
            "Actual label:php\n",
            "Predicted label: php\n",
            "\n",
            "undefined method `request_uri  actiondispatch  i w ...\n",
            "Actual label:ruby-on-rails\n",
            "Predicted label: ruby-on-rails\n",
            "\n",
            "my table view is not showing data  i am using a ta ...\n",
            "Actual label:iphone\n",
            "Predicted label: iphone\n",
            "\n",
            "update panel not working correctly   i have added  ...\n",
            "Actual label:asp.net\n",
            "Predicted label: asp.net\n",
            "\n",
            "floating objects in html  is it possible to make a ...\n",
            "Actual label:html\n",
            "Predicted label: html\n",
            "\n"
          ],
          "name": "stdout"
        }
      ]
    },
    {
      "cell_type": "code",
      "metadata": {
        "id": "OypgV9mzo-Hc",
        "colab_type": "code",
        "colab": {}
      },
      "source": [
        "y_softmax = model.predict(x_test)\n",
        "\n",
        "y_test_1d = []\n",
        "y_pred_1d = []\n",
        "\n",
        "for i in range(len(y_test)):\n",
        "    probs = y_test[i]\n",
        "    index_arr = np.nonzero(probs)\n",
        "    one_hot_index = index_arr[0].item(0)\n",
        "    y_test_1d.append(one_hot_index)\n",
        "\n",
        "for i in range(0, len(y_softmax)):\n",
        "    probs = y_softmax[i]\n",
        "    predicted_index = np.argmax(probs)\n",
        "    y_pred_1d.append(predicted_index)"
      ],
      "execution_count": 0,
      "outputs": []
    },
    {
      "cell_type": "code",
      "metadata": {
        "id": "p1qqepePpDAr",
        "colab_type": "code",
        "colab": {}
      },
      "source": [
        "\n",
        "import itertools\n",
        "# This utility function is from the sklearn docs: http://scikit-learn.org/stable/auto_examples/model_selection/plot_confusion_matrix.html\n",
        "def plot_confusion_matrix(cm, classes,\n",
        "                          title='Confusion matrix',\n",
        "                          cmap=plt.cm.Blues):\n",
        "    \"\"\"\n",
        "    This function prints and plots the confusion matrix.\n",
        "    Normalization can be applied by setting `normalize=True`.\n",
        "    \"\"\"\n",
        "\n",
        "    cm = cm.astype('float') / cm.sum(axis=1)[:, np.newaxis]\n",
        "\n",
        "    plt.imshow(cm, interpolation='nearest', cmap=cmap)\n",
        "    plt.title(title, fontsize=15)\n",
        "    plt.colorbar()\n",
        "    tick_marks = np.arange(len(classes))\n",
        "    plt.xticks(tick_marks, classes, rotation=45, fontsize=12)\n",
        "    plt.yticks(tick_marks, classes, fontsize=12)\n",
        "\n",
        "    fmt = '.2f'\n",
        "    thresh = cm.max() / 2.\n",
        "    for i, j in itertools.product(range(cm.shape[0]), range(cm.shape[1])):\n",
        "        plt.text(j, i, format(cm[i, j], fmt),\n",
        "                 horizontalalignment=\"center\",\n",
        "                 color=\"white\" if cm[i, j] > thresh else \"black\")\n",
        "\n",
        "    plt.ylabel('True label', fontsize=10)\n",
        "    plt.xlabel('Predicted label', fontsize=10)"
      ],
      "execution_count": 0,
      "outputs": []
    },
    {
      "cell_type": "code",
      "metadata": {
        "id": "pj2t2wY7pzRi",
        "colab_type": "code",
        "colab": {
          "base_uri": "https://localhost:8080/",
          "height": 881
        },
        "outputId": "9cdc3f36-cecc-4270-a140-4476a7cf12bb"
      },
      "source": [
        "cnf_matrix = confusion_matrix(y_test_1d, y_pred_1d)\n",
        "plt.figure(figsize=(15,15))\n",
        "plot_confusion_matrix(cnf_matrix, classes=text_labels, title=\"Confusion matrix\")\n",
        "plt.show()"
      ],
      "execution_count": 34,
      "outputs": [
        {
          "output_type": "display_data",
          "data": {
            "image/png": "[encoded data removed]",
            "text/plain": [
              "<Figure size 1080x1080 with 2 Axes>"
            ]
          },
          "metadata": {
            "tags": []
          }
        }
      ]
    },
    {
      "cell_type": "code",
      "metadata": {
        "id": "F9hoSYfoqM14",
        "colab_type": "code",
        "colab": {}
      },
      "source": [
        ""
      ],
      "execution_count": 0,
      "outputs": []
    }
  ]
}